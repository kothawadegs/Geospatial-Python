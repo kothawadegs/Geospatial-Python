{
  "nbformat": 4,
  "nbformat_minor": 0,
  "metadata": {
    "colab": {
      "name": "matrix_final.ipynb",
      "provenance": [],
      "include_colab_link": true
    },
    "kernelspec": {
      "name": "python3",
      "display_name": "Python 3"
    }
  },
  "cells": [
    {
      "cell_type": "markdown",
      "metadata": {
        "id": "view-in-github",
        "colab_type": "text"
      },
      "source": [
        "<a href=\"https://colab.research.google.com/github/kothawadegs/Geospatial-Python/blob/master/matrix_final.ipynb\" target=\"_parent\"><img src=\"https://colab.research.google.com/assets/colab-badge.svg\" alt=\"Open In Colab\"/></a>"
      ]
    },
    {
      "cell_type": "code",
      "metadata": {
        "id": "jIrwXWII38B_",
        "colab_type": "code",
        "colab": {}
      },
      "source": [
        "f = np.zeros((20,20))\n",
        "g = np.zeros((20,20))\n",
        "for i in range(20):\n",
        "  for j in range(20):\n",
        "    if i == j:\n",
        "      f[i,j] = 1\n",
        "      g[i, j] = f[i, j] * i - 0.5 * i\n",
        "    elif i != j:\n",
        "      f[i,j] = i-j\n",
        "      g[i, j] = i / f[i, j] - 0.5 * j\n"
      ],
      "execution_count": 0,
      "outputs": []
    },
    {
      "cell_type": "code",
      "metadata": {
        "id": "S3JElvCf42Kt",
        "colab_type": "code",
        "outputId": "4bce0081-9f99-4eae-e4ce-487dea6a04d9",
        "colab": {
          "base_uri": "https://localhost:8080/",
          "height": 1000
        }
      },
      "source": [
        "res = np.dot(f,g) \n",
        "res"
      ],
      "execution_count": 0,
      "outputs": [
        {
          "output_type": "execute_result",
          "data": {
            "text/plain": [
              "array([[-1.90000000e+02, -1.16995108e+02, -4.87582101e+01,\n",
              "         1.65734391e+01,  8.02416694e+01,  1.43294275e+02,\n",
              "         2.06715185e+02,  2.71492677e+02,  3.38670707e+02,\n",
              "         4.09400000e+02,  4.85000000e+02,  5.67044444e+02,\n",
              "         6.57490909e+02,  7.58892605e+02,  8.74772883e+02,\n",
              "         1.01035152e+03,  1.17413329e+03,  1.38203068e+03,\n",
              "         1.67141502e+03,  2.18323402e+03],\n",
              "       [-1.70000000e+02, -1.03500000e+02, -4.48791050e+01,\n",
              "         1.27156260e+01,  6.78479187e+01,  1.21885420e+02,\n",
              "         1.75895987e+02,  2.30898485e+02,  2.87944012e+02,\n",
              "         3.48175000e+02,  4.12888889e+02,  4.83622222e+02,\n",
              "         5.62275758e+02,  6.51317532e+02,  7.54140754e+02,\n",
              "         8.75756660e+02,  1.02430829e+03,  1.21499579e+03,\n",
              "         1.48344425e+03,  1.96377141e+03],\n",
              "       [-1.51000000e+02, -9.00048919e+01, -3.70000000e+01,\n",
              "         7.85781302e+00,  5.51208347e+01,  1.00309898e+02,\n",
              "         1.44976790e+02,  1.90237626e+02,  2.37169697e+02,\n",
              "         2.86914286e+02,  3.40750000e+02,  4.00177778e+02,\n",
              "         4.67042424e+02,  5.43727309e+02,  6.33495804e+02,\n",
              "         7.41150808e+02,  8.74473771e+02,  1.04795256e+03,\n",
              "         1.29546613e+03,  1.74430226e+03],\n",
              "       [-1.32000000e+02, -7.80097838e+01, -3.11208950e+01,\n",
              "         9.50000000e+00,  4.10604174e+01,  7.83177101e+01,\n",
              "         1.13857592e+02,  1.49460101e+02,  1.86319192e+02,\n",
              "         2.25600000e+02,  2.68571429e+02,  3.16702778e+02,\n",
              "         3.71784848e+02,  4.36117388e+02,  5.12834538e+02,\n",
              "         6.06531219e+02,  7.24627528e+02,  8.80899215e+02,\n",
              "         1.10747918e+03,  1.52482536e+03],\n",
              "       [-1.13000000e+02, -6.56813424e+01, -2.72417899e+01,\n",
              "         7.14218698e+00,  3.60000000e+01,  5.46588550e+01,\n",
              "         8.22383949e+01,  1.08449242e+02,  1.35335354e+02,\n",
              "         1.64200000e+02,  1.96333333e+02,  2.33184127e+02,\n",
              "         2.76493939e+02,  3.28481205e+02,  3.92152059e+02,\n",
              "         4.71894148e+02,  5.74766633e+02,  7.13833415e+02,\n",
              "         9.19481521e+02,  1.30533914e+03],\n",
              "       [-9.40000000e+01, -5.32695677e+01, -2.26960182e+01,\n",
              "         2.28437396e+00,  2.49395826e+01,  4.25000000e+01,\n",
              "         4.86191975e+01,  6.68550505e+01,  8.40848485e+01,\n",
              "         1.02650000e+02,  1.24000000e+02,  1.49600000e+02,\n",
              "         1.81155411e+02,  2.20808911e+02,  2.71441298e+02,\n",
              "         3.37234349e+02,  4.24887091e+02,  5.46752048e+02,\n",
              "         7.31470675e+02,  1.08584161e+03],\n",
              "       [-7.50000000e+01, -4.08244596e+01, -1.79835798e+01,\n",
              "        -1.57343906e+00,  1.08791653e+01,  2.23411450e+01,\n",
              "         2.90000000e+01,  2.29275253e+01,  3.21676768e+01,\n",
              "         4.08000000e+01,  5.15000000e+01,  6.59111111e+01,\n",
              "         8.57454545e+01,  1.13085029e+02,  1.50691647e+02,\n",
              "         2.02544247e+02,  2.74983306e+02,  3.79650867e+02,\n",
              "         5.43443345e+02,  8.66330157e+02],\n",
              "       [-5.60000000e+01, -2.83626849e+01, -1.32044748e+01,\n",
              "        -5.18125208e+00, -1.84791875e+00, -1.31771007e+00,\n",
              "        -6.19197469e-01, -4.50000000e+00, -2.24161616e+01,\n",
              "        -2.18000000e+01, -2.13333333e+01, -1.79611111e+01,\n",
              "        -9.77878788e+00,  5.28376623e+00,  2.98864413e+01,\n",
              "         6.78124792e+01,  1.25047197e+02,  2.12523929e+02,\n",
              "         3.55395036e+02,  6.46801308e+02],\n",
              "       [-3.70000000e+01, -1.58913863e+01, -8.39203639e+00,\n",
              "        -8.68906510e+00, -1.42416694e+01, -2.33098984e+01,\n",
              "        -3.42383949e+01, -4.39275253e+01, -5.80000000e+01,\n",
              "        -8.74000000e+01, -9.50000000e+01, -1.02200000e+02,\n",
              "        -1.05503030e+02, -1.02641306e+02, -9.10020979e+01,\n",
              "        -6.69788129e+01, -2.49333555e+01,  4.53626471e+01,\n",
              "         1.67319454e+02,  4.27250316e+02],\n",
              "       [-1.80000000e+01, -3.41413537e+00, -3.56055040e+00,\n",
              "        -1.21468781e+01, -2.65020868e+01, -4.48854201e+01,\n",
              "        -6.58575924e+01, -8.78550505e+01, -1.07583838e+02,\n",
              "        -1.31500000e+02, -1.72000000e+02, -1.87355556e+02,\n",
              "        -2.01627273e+02, -2.10783045e+02, -2.12023970e+02,\n",
              "        -2.01859391e+02, -1.74977400e+02, -1.21845857e+02,\n",
              "        -2.07924913e+01,  2.07670535e+02],\n",
              "       [ 1.00000000e+00,  9.06708381e+00,  1.28284036e+00,\n",
              "        -1.55761197e+01, -3.86958375e+01, -6.62942752e+01,\n",
              "        -9.69767899e+01, -1.29449242e+02, -1.62167677e+02,\n",
              "        -1.91600000e+02, -2.25000000e+02, -2.76177778e+02,\n",
              "        -2.98751515e+02, -3.19358117e+02, -3.33279176e+02,\n",
              "        -3.36882826e+02, -3.25116683e+02, -2.89121821e+02,\n",
              "        -2.08954437e+02, -1.19476297e+01],\n",
              "       [ 2.00000000e+01,  2.15510808e+01,  6.13416763e+00,\n",
              "        -1.89875042e+01, -5.08514930e+01, -8.76197969e+01,\n",
              "        -1.27895987e+02, -1.70460101e+02, -2.14084848e+02,\n",
              "        -2.57200000e+02, -2.96000000e+02, -3.38500000e+02,\n",
              "        -3.99875758e+02, -4.29016522e+02, -4.55001049e+02,\n",
              "        -4.72156260e+02, -4.75408347e+02, -4.56498976e+02,\n",
              "        -3.97187811e+02, -2.31618572e+02],\n",
              "       [ 3.90000000e+01,  3.40370980e+01,  1.09910505e+01,\n",
              "        -2.23869838e+01, -6.29833389e+01, -1.08897700e+02,\n",
              "        -1.58715185e+02, -2.11237626e+02, -2.65335354e+02,\n",
              "        -3.19800000e+02, -3.73000000e+02, -4.20822222e+02,\n",
              "        -4.72000000e+02, -5.43008261e+02, -5.77889588e+02,\n",
              "        -6.07929695e+02, -6.25966678e+02, -6.24038036e+02,\n",
              "        -5.85528328e+02, -4.51364911e+02],\n",
              "       [ 5.80000000e+01,  4.65246303e+01,  1.58519737e+01,\n",
              "        -2.57781302e+01, -7.50993118e+01, -1.30145840e+02,\n",
              "        -1.89477239e+02, -2.51898485e+02, -3.16319192e+02,\n",
              "        -3.81650000e+02, -4.46666667e+02, -5.09644444e+02,\n",
              "        -5.66124242e+02, -6.25500000e+02, -7.05444794e+02,\n",
              "        -7.44953130e+02, -7.77058342e+02, -7.91860428e+02,\n",
              "        -7.74040273e+02, -6.71224346e+02],\n",
              "       [ 7.70000000e+01,  5.90133281e+01,  2.07159272e+01,\n",
              "        -2.91632160e+01, -8.72041736e+01, -1.51374140e+02,\n",
              "        -2.20203580e+02, -2.92492677e+02, -3.67169697e+02,\n",
              "        -4.43200000e+02, -5.19500000e+02, -5.94800000e+02,\n",
              "        -6.67248485e+02, -7.31991739e+02, -7.99000000e+02,\n",
              "        -8.86976565e+02, -9.29483339e+02, -9.60249488e+02,\n",
              "        -9.62852218e+02, -8.91264733e+02],\n",
              "       [ 9.60000000e+01,  7.15029417e+01,  2.55822117e+01,\n",
              "        -3.25437562e+01, -9.93009546e+01, -1.72588550e+02,\n",
              "        -2.50906111e+02, -3.33045202e+02, -4.17944012e+02,\n",
              "        -5.04600000e+02, -5.92000000e+02, -6.79038889e+02,\n",
              "        -7.64372727e+02, -8.45983478e+02, -9.18555206e+02,\n",
              "        -9.92500000e+02, -1.08724167e+03, -1.13005521e+03,\n",
              "        -1.15226416e+03, -1.11162179e+03],\n",
              "       [ 1.15000000e+02,  8.39932878e+01,  3.04503278e+01,\n",
              "        -3.59208000e+01, -1.11391675e+02, -1.93792860e+02,\n",
              "        -2.81591975e+02, -3.73569949e+02, -4.68670707e+02,\n",
              "        -5.65914286e+02, -6.64333333e+02, -7.62911111e+02,\n",
              "        -8.60496970e+02, -9.55641883e+02, -1.04611041e+03,\n",
              "        -1.12602343e+03, -1.20600000e+03, -1.30552761e+03,\n",
              "        -1.34317611e+03, -1.33261217e+03],\n",
              "       [ 1.34000000e+02,  9.64842293e+01,  3.53199090e+01,\n",
              "        -3.92950966e+01, -1.23477733e+02, -2.14989594e+02,\n",
              "        -3.12265718e+02, -4.14075253e+02, -5.19365657e+02,\n",
              "        -6.27175000e+02, -7.36571429e+02, -8.46600000e+02,\n",
              "        -9.56221212e+02, -1.06421696e+03, -1.16899895e+03,\n",
              "        -1.26804687e+03, -1.35475833e+03, -1.43950000e+03,\n",
              "        -1.54008805e+03, -1.55518589e+03],\n",
              "       [ 1.53000000e+02,  1.08975661e+02,  4.01906807e+01,\n",
              "        -4.26671953e+01, -1.35560129e+02, -2.36180500e+02,\n",
              "        -3.42930370e+02, -4.54566414e+02, -5.70038384e+02,\n",
              "        -6.88400000e+02, -8.08750000e+02, -9.30184127e+02,\n",
              "        -1.05174545e+03, -1.17235869e+03, -1.29072082e+03,\n",
              "        -1.40507030e+03, -1.51251666e+03, -1.60547239e+03,\n",
              "        -1.69300000e+03, -1.78409295e+03],\n",
              "       [ 1.72000000e+02,  1.21467501e+02,  4.50624328e+01,\n",
              "        -4.60375083e+01, -1.47639594e+02, -2.57366828e+02,\n",
              "        -3.73588029e+02, -4.95046970e+02, -6.20694949e+02,\n",
              "        -7.49600000e+02, -8.80888889e+02, -1.01370278e+03,\n",
              "        -1.14715541e+03, -1.28028377e+03, -1.41197603e+03,\n",
              "        -1.54084374e+03, -1.66494166e+03, -1.78094479e+03,\n",
              "        -1.87991195e+03, -1.96650000e+03]])"
            ]
          },
          "metadata": {
            "tags": []
          },
          "execution_count": 66
        }
      ]
    },
    {
      "cell_type": "code",
      "metadata": {
        "id": "ZyDQTSuG6l7-",
        "colab_type": "code",
        "outputId": "b4a69054-840b-46d6-955b-941fb5676094",
        "colab": {
          "base_uri": "https://localhost:8080/",
          "height": 265
        }
      },
      "source": [
        "# just to visualize\n",
        "import numpy as np\n",
        "import matplotlib.pyplot as plt\n",
        "\n",
        "plt.imshow(res)\n",
        "plt.colorbar()\n",
        "plt.show()\n",
        "\n"
      ],
      "execution_count": 0,
      "outputs": [
        {
          "output_type": "display_data",
          "data": {
            "image/png": "[encoded data removed]",
            "text/plain": [
              "<Figure size 432x288 with 2 Axes>"
            ]
          },
          "metadata": {
            "tags": [],
            "needs_background": "light"
          }
        }
      ]
    },
    {
      "cell_type": "code",
      "metadata": {
        "id": "KWb_SRVE9shB",
        "colab_type": "code",
        "colab": {}
      },
      "source": [
        "def func_f(i, j):\n",
        "\n",
        "  if i == j:\n",
        "    return 1\n",
        "  return i - j\n",
        "\n",
        "\n",
        "def func_g(i, j):\n",
        "\n",
        "  if i"
      ],
      "execution_count": 0,
      "outputs": []
    }
  ]
}